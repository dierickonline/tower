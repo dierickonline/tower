{
 "cells": [
  {
   "cell_type": "code",
   "execution_count": 1,
   "id": "40149d0d-e640-407b-80fd-6d54e75b744b",
   "metadata": {},
   "outputs": [],
   "source": [
    "import pandas as pd"
   ]
  },
  {
   "cell_type": "code",
   "execution_count": 3,
   "id": "748db9b4-0cbe-4213-93e5-7e359ad2b83c",
   "metadata": {},
   "outputs": [],
   "source": [
    "df = pd.read_csv('data/finaltotal.csv')"
   ]
  },
  {
   "cell_type": "code",
   "execution_count": 5,
   "id": "8d59e3cc-d7f9-4ce2-80c1-8b9bdfe62fd4",
   "metadata": {},
   "outputs": [],
   "source": [
    "class_mapping = {\n",
    "    '': 0,\n",
    "    'rouille': 1,\n",
    "    'peinture': 2,\n",
    "    'deformation': 3,\n",
    "    'Corps étranger': 4 \n",
    "}\n"
   ]
  },
  {
   "cell_type": "code",
   "execution_count": 6,
   "id": "0c0fd036-e05c-479e-a7f3-771aea943c26",
   "metadata": {},
   "outputs": [],
   "source": [
    "df['label'] = df['nature'].map(class_mapping)"
   ]
  },
  {
   "cell_type": "code",
   "execution_count": 8,
   "id": "a6ef8237-7a63-4170-aef8-f34d1ef9f998",
   "metadata": {},
   "outputs": [],
   "source": [
    "df.to_csv('data/finaltotal.csv', index=False)\n"
   ]
  },
  {
   "cell_type": "code",
   "execution_count": null,
   "id": "bae5cdd2-4efc-4057-b14c-2b78997e2017",
   "metadata": {},
   "outputs": [],
   "source": []
  }
 ],
 "metadata": {
  "kernelspec": {
   "display_name": "Python 3 (ipykernel)",
   "language": "python",
   "name": "python3"
  },
  "language_info": {
   "codemirror_mode": {
    "name": "ipython",
    "version": 3
   },
   "file_extension": ".py",
   "mimetype": "text/x-python",
   "name": "python",
   "nbconvert_exporter": "python",
   "pygments_lexer": "ipython3",
   "version": "3.10.9"
  }
 },
 "nbformat": 4,
 "nbformat_minor": 5
}
