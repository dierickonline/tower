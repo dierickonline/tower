{
 "cells": [
  {
   "cell_type": "code",
   "execution_count": 1,
   "id": "ef9e0fc1-2628-4aaa-b37f-84a9d0bc4ece",
   "metadata": {},
   "outputs": [
    {
     "name": "stdout",
     "output_type": "stream",
     "text": [
      "Problem with data/P12\\H2-UP\\img/P12_H2-UP_DJI_0932.jpeg: image file is truncated (63 bytes not processed)\n",
      "Problem with data/P12\\H2-UP\\img/P12_H2-UP_DJI_0933.jpeg: image file is truncated (2 bytes not processed)\n",
      "Problem with data/P12\\H4-UP\\img/P12_H4-UP_DJI_0839.jpeg: image file is truncated (35 bytes not processed)\n",
      "Problem with data/P12\\H4-UP\\img/P12_H4-UP_DJI_0840.jpeg: image file is truncated (53 bytes not processed)\n"
     ]
    }
   ],
   "source": [
    "from PIL import Image\n",
    "import os\n",
    "import pandas as pd\n",
    "\n",
    "def check_images(directory):\n",
    "    df = pd.read_csv(directory + 'images.csv')\n",
    "      \n",
    "    # Iterate over all files in the directory\n",
    "    for index, row in df.iterrows():\n",
    "        # Construct the full file path\n",
    "        imagepath = os.path.join(row['Path'])\n",
    "        # Check if the current file is an image\n",
    "        try:\n",
    "            with Image.open(imagepath) as img:\n",
    "                # Attempt to load the image to catch truncation errors\n",
    "                img.load()\n",
    "        except (IOError, OSError) as e:\n",
    "            # Print out the names of any truncated images\n",
    "            print(f\"Problem with {imagepath}: {e}\")\n",
    "\n",
    "                \n",
    "                \n",
    "                \n",
    "                \n",
    "                \n",
    "# Replace 'path/to/directory' with the path to your directory of images\n",
    "check_images('data/')\n",
    "\n",
    "\n",
    "\n",
    "\n"
   ]
  },
  {
   "cell_type": "code",
   "execution_count": null,
   "id": "1aa8681f-6579-4dd5-a669-91aaa49d3fd8",
   "metadata": {},
   "outputs": [],
   "source": []
  }
 ],
 "metadata": {
  "kernelspec": {
   "display_name": "Python 3 (ipykernel)",
   "language": "python",
   "name": "python3"
  },
  "language_info": {
   "codemirror_mode": {
    "name": "ipython",
    "version": 3
   },
   "file_extension": ".py",
   "mimetype": "text/x-python",
   "name": "python",
   "nbconvert_exporter": "python",
   "pygments_lexer": "ipython3",
   "version": "3.10.9"
  }
 },
 "nbformat": 4,
 "nbformat_minor": 5
}
