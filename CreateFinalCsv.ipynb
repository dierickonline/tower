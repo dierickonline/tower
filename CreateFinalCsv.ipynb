{
 "cells": [
  {
   "cell_type": "markdown",
   "id": "777ad6c3-074a-4940-8e47-487811f609fd",
   "metadata": {},
   "source": [
    "# Create Final Csv"
   ]
  },
  {
   "cell_type": "markdown",
   "id": "53271454-11e0-4859-80d3-32cf48e17e2b",
   "metadata": {},
   "source": [
    "Every tower has its own final.csv where the labels are stored.\n",
    "This code will gather all the final csv's and combine them into one file.\n",
    "This file can then be used in the pytorch dataset."
   ]
  },
  {
   "cell_type": "code",
   "execution_count": 1,
   "id": "7df30c3f-d212-4ffa-953c-7ad96b8d5745",
   "metadata": {},
   "outputs": [],
   "source": [
    "import pandas as pd\n",
    "import os"
   ]
  },
  {
   "cell_type": "code",
   "execution_count": 35,
   "id": "1e2e4be9-1e76-4ca7-8594-dacd6e30a50d",
   "metadata": {},
   "outputs": [],
   "source": [
    "dataframes_list = pd.DataFrame()\n",
    "images =[]\n",
    "folder= 'data/'\n",
    "finalfile = 'final.csv'\n",
    "\n",
    "for root, dirs, files in os.walk(folder):\n",
    "    \n",
    "    if finalfile in files:\n",
    "        filepath = root + \"/\" + finalfile\n",
    "        df = pd.read_csv(filepath)  # Read each CSV file as a DataFrame\n",
    "        dataframes_list = pd.concat([dataframes_list, df], ignore_index=True)\n",
    "    \n",
    "    for file in files:\n",
    "        filepath = root + \"/\" + file\n",
    "        if file.endswith('.jpeg'):\n",
    "            images.append({'Filename':file, 'Path':filepath})\n",
    "    \n",
    "ImageDf = pd.DataFrame(images)\n"
   ]
  },
  {
   "cell_type": "code",
   "execution_count": 36,
   "id": "14b76815-dce8-4d4a-b341-469973618280",
   "metadata": {},
   "outputs": [
    {
     "data": {
      "text/html": [
       "<div>\n",
       "<style scoped>\n",
       "    .dataframe tbody tr th:only-of-type {\n",
       "        vertical-align: middle;\n",
       "    }\n",
       "\n",
       "    .dataframe tbody tr th {\n",
       "        vertical-align: top;\n",
       "    }\n",
       "\n",
       "    .dataframe thead th {\n",
       "        text-align: right;\n",
       "    }\n",
       "</style>\n",
       "<table border=\"1\" class=\"dataframe\">\n",
       "  <thead>\n",
       "    <tr style=\"text-align: right;\">\n",
       "      <th></th>\n",
       "      <th>Filename</th>\n",
       "      <th>Path</th>\n",
       "    </tr>\n",
       "  </thead>\n",
       "  <tbody>\n",
       "    <tr>\n",
       "      <th>0</th>\n",
       "      <td>P10STR_106.74_108.33_022.12_023.71_AL_DOWN_001...</td>\n",
       "      <td>data/P10\\AL\\img/P10STR_106.74_108.33_022.12_02...</td>\n",
       "    </tr>\n",
       "    <tr>\n",
       "      <th>1</th>\n",
       "      <td>P10STR_111.94_112.76_027.32_028.14_AL_DOWN_002...</td>\n",
       "      <td>data/P10\\AL\\img/P10STR_111.94_112.76_027.32_02...</td>\n",
       "    </tr>\n",
       "    <tr>\n",
       "      <th>2</th>\n",
       "      <td>P10STR_079.13_082.46_-003.2_000.13_H1_DOWN_001...</td>\n",
       "      <td>data/P10\\H1-DOWN\\img/P10STR_079.13_082.46_-003...</td>\n",
       "    </tr>\n",
       "    <tr>\n",
       "      <th>3</th>\n",
       "      <td>P10STR_079.65_082.98_-002.68_000.65_H1_DOWN_00...</td>\n",
       "      <td>data/P10\\H1-DOWN\\img/P10STR_079.65_082.98_-002...</td>\n",
       "    </tr>\n",
       "    <tr>\n",
       "      <th>4</th>\n",
       "      <td>P10STR_080.19_080.5_-002.14_-001.82_H1_DOWN_00...</td>\n",
       "      <td>data/P10\\H1-DOWN\\img/P10STR_080.19_080.5_-002....</td>\n",
       "    </tr>\n",
       "    <tr>\n",
       "      <th>...</th>\n",
       "      <td>...</td>\n",
       "      <td>...</td>\n",
       "    </tr>\n",
       "    <tr>\n",
       "      <th>1202</th>\n",
       "      <td>P14_H4-UP_DJI_0575.jpeg</td>\n",
       "      <td>data/P14\\H4-UP\\img/P14_H4-UP_DJI_0575.jpeg</td>\n",
       "    </tr>\n",
       "    <tr>\n",
       "      <th>1203</th>\n",
       "      <td>P14_H4-UP_DJI_0576.jpeg</td>\n",
       "      <td>data/P14\\H4-UP\\img/P14_H4-UP_DJI_0576.jpeg</td>\n",
       "    </tr>\n",
       "    <tr>\n",
       "      <th>1204</th>\n",
       "      <td>P14_H4-UP_DJI_0577.jpeg</td>\n",
       "      <td>data/P14\\H4-UP\\img/P14_H4-UP_DJI_0577.jpeg</td>\n",
       "    </tr>\n",
       "    <tr>\n",
       "      <th>1205</th>\n",
       "      <td>P14_H4-UP_DJI_0578.jpeg</td>\n",
       "      <td>data/P14\\H4-UP\\img/P14_H4-UP_DJI_0578.jpeg</td>\n",
       "    </tr>\n",
       "    <tr>\n",
       "      <th>1206</th>\n",
       "      <td>P14_H4-UP_DJI_0579.jpeg</td>\n",
       "      <td>data/P14\\H4-UP\\img/P14_H4-UP_DJI_0579.jpeg</td>\n",
       "    </tr>\n",
       "  </tbody>\n",
       "</table>\n",
       "<p>1207 rows × 2 columns</p>\n",
       "</div>"
      ],
      "text/plain": [
       "                                               Filename  \\\n",
       "0     P10STR_106.74_108.33_022.12_023.71_AL_DOWN_001...   \n",
       "1     P10STR_111.94_112.76_027.32_028.14_AL_DOWN_002...   \n",
       "2     P10STR_079.13_082.46_-003.2_000.13_H1_DOWN_001...   \n",
       "3     P10STR_079.65_082.98_-002.68_000.65_H1_DOWN_00...   \n",
       "4     P10STR_080.19_080.5_-002.14_-001.82_H1_DOWN_00...   \n",
       "...                                                 ...   \n",
       "1202                            P14_H4-UP_DJI_0575.jpeg   \n",
       "1203                            P14_H4-UP_DJI_0576.jpeg   \n",
       "1204                            P14_H4-UP_DJI_0577.jpeg   \n",
       "1205                            P14_H4-UP_DJI_0578.jpeg   \n",
       "1206                            P14_H4-UP_DJI_0579.jpeg   \n",
       "\n",
       "                                                   Path  \n",
       "0     data/P10\\AL\\img/P10STR_106.74_108.33_022.12_02...  \n",
       "1     data/P10\\AL\\img/P10STR_111.94_112.76_027.32_02...  \n",
       "2     data/P10\\H1-DOWN\\img/P10STR_079.13_082.46_-003...  \n",
       "3     data/P10\\H1-DOWN\\img/P10STR_079.65_082.98_-002...  \n",
       "4     data/P10\\H1-DOWN\\img/P10STR_080.19_080.5_-002....  \n",
       "...                                                 ...  \n",
       "1202         data/P14\\H4-UP\\img/P14_H4-UP_DJI_0575.jpeg  \n",
       "1203         data/P14\\H4-UP\\img/P14_H4-UP_DJI_0576.jpeg  \n",
       "1204         data/P14\\H4-UP\\img/P14_H4-UP_DJI_0577.jpeg  \n",
       "1205         data/P14\\H4-UP\\img/P14_H4-UP_DJI_0578.jpeg  \n",
       "1206         data/P14\\H4-UP\\img/P14_H4-UP_DJI_0579.jpeg  \n",
       "\n",
       "[1207 rows x 2 columns]"
      ]
     },
     "execution_count": 36,
     "metadata": {},
     "output_type": "execute_result"
    }
   ],
   "source": [
    "ImageDf"
   ]
  },
  {
   "cell_type": "code",
   "execution_count": 37,
   "id": "b6d2a2fc-f545-4486-9952-2f1e8b60965e",
   "metadata": {},
   "outputs": [],
   "source": [
    "dataframes_list.to_csv('data/finaltotal.csv', index=False)\n",
    "ImageDf.to_csv('data/images.csv', index=False)"
   ]
  },
  {
   "cell_type": "code",
   "execution_count": null,
   "id": "83600e7d-e251-4625-bb24-5ab028c5f822",
   "metadata": {},
   "outputs": [],
   "source": []
  }
 ],
 "metadata": {
  "kernelspec": {
   "display_name": "Python 3 (ipykernel)",
   "language": "python",
   "name": "python3"
  },
  "language_info": {
   "codemirror_mode": {
    "name": "ipython",
    "version": 3
   },
   "file_extension": ".py",
   "mimetype": "text/x-python",
   "name": "python",
   "nbconvert_exporter": "python",
   "pygments_lexer": "ipython3",
   "version": "3.10.9"
  }
 },
 "nbformat": 4,
 "nbformat_minor": 5
}
